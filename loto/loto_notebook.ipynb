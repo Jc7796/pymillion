{
 "cells": [
  {
   "cell_type": "markdown",
   "metadata": {},
   "source": [
    "# Imports"
   ]
  },
  {
   "cell_type": "code",
   "execution_count": 69,
   "metadata": {},
   "outputs": [],
   "source": [
    "import logging\n",
    "import requests\n",
    "import zipfile\n",
    "import os\n",
    "import pandas as pd\n",
    "import numpy as np\n",
    "from itertools import chain\n",
    "from collections import Counter\n",
    "import random\n",
    "import argparse\n",
    "\n",
    "logger = logging.getLogger()\n",
    "logging.basicConfig(level=logging.INFO)\n"
   ]
  },
  {
   "cell_type": "markdown",
   "metadata": {},
   "source": [
    "# Constants and URLs and functions"
   ]
  },
  {
   "cell_type": "markdown",
   "metadata": {},
   "source": [
    "## Constants"
   ]
  },
  {
   "cell_type": "code",
   "execution_count": 68,
   "metadata": {},
   "outputs": [],
   "source": [
    "LOTO_URLS = [\n",
    "    'https://media.fdj.fr/static/csv/loto/loto_197605.zip',\n",
    "    'https://media.fdj.fr/static/csv/loto/loto_200810.zip',\n",
    "    'https://media.fdj.fr/static/csv/loto/loto_201703.zip',\n",
    "    'https://media.fdj.fr/static/csv/loto/loto_201902.zip',\n",
    "    'https://media.fdj.fr/static/csv/loto/loto_201911.zip',\n",
    "]\n",
    "\n",
    "CSVS = [f'loto_{i}.csv' for i in range(5)]\n",
    "\n",
    "COLUMNS = ['annee_numero_de_tirage'] + [f'boule_{i}' for i in range(1, 6)] + ['numero_chance']\n"
   ]
  },
  {
   "cell_type": "markdown",
   "metadata": {},
   "source": [
    "## Functions"
   ]
  },
  {
   "cell_type": "code",
   "execution_count": 70,
   "metadata": {},
   "outputs": [],
   "source": [
    "def asint(l):\n",
    "    return [int(e) for e in l]\n",
    "\n",
    "def custom_fn(row):\n",
    "    return (sorted(asint(row[1:6])), [int(row[6])])\n",
    "\n",
    "def read_csv(filename):\n",
    "    logger.info(f'Reading csv file {filename}')\n",
    "    data = pd.read_csv(filename, sep=';')\n",
    "    if filename == CSVS[0]:\n",
    "        columns = ['annee_numero_de_tirage'] + [f'boule_{i}' for i in range(1, 6)] + ['boule_complementaire']\n",
    "        data = data[columns]\n",
    "        data.columns = COLUMNS\n",
    "        data.numero_chance = data.numero_chance.map(lambda x: x % 11)\n",
    "\n",
    "    else:\n",
    "        data = data[COLUMNS]\n",
    "\n",
    "    return data\n",
    "\n",
    "def generate_games(games, history, n_games):\n",
    "\n",
    "    if history > len(games):\n",
    "        logger.warning(f'History value exceeds the number of history games, setting history to maximal value: {len(games)}')\n",
    "        history = len(games)\n",
    "\n",
    "    logger.info(f'Generating {n_games} games based on the last past {history} games:')\n",
    "\n",
    "    generated_games = []\n",
    "\n",
    "    past_balls = chain(*[game[0] for game in games[:history]])\n",
    "    past_stars = chain(*[game[1] for game in games[:history]])\n",
    "\n",
    "    ball_counter = Counter(past_balls)\n",
    "    star_counter = Counter(past_stars)\n",
    "\n",
    "    played_balls = np.array(list(ball_counter.keys()))\n",
    "    played_stars = np.array(list(star_counter.keys()))\n",
    "\n",
    "    proba_balls = np.array(list(ball_counter.values())) / np.linalg.norm(list(ball_counter.values()), ord=1)\n",
    "    proba_stars = np.array(list(star_counter.values())) / np.linalg.norm(list(star_counter.values()), ord=1)\n",
    "\n",
    "\n",
    "    for i in range(n_games):\n",
    "\n",
    "        while True:\n",
    "            ball_selection = sorted(np.random.choice(played_balls, size=5, replace=False, p=proba_balls))\n",
    "            star_selection = sorted(np.random.choice(played_stars, size=1, replace=False, p=proba_stars))\n",
    "\n",
    "            if sum([ball > 25 for ball in ball_selection]) != random.choice([2,3]):\n",
    "                continue\n",
    "            else:\n",
    "                generated_games.append((ball_selection, star_selection))\n",
    "                break\n",
    "\n",
    "    return generated_games\n",
    "\n",
    "def download_helper():\n",
    "    for i, url in enumerate(LOTO_URLS):\n",
    "        zipfilename = f'loto_{i}.zip'\n",
    "        csvfilename = f'loto_{i}.csv'\n",
    "        if not(os.path.isfile(csvfilename)):\n",
    "            logger.info(f'Downloading file {csvfilename}')\n",
    "            r = requests.get(url, allow_redirects=True)\n",
    "            open(zipfilename, 'wb').write(r.content)\n",
    "            zipdata = zipfile.ZipFile(zipfilename)\n",
    "            zipinfo = zipdata.infolist()[0]\n",
    "            zipinfo.filename = csvfilename\n",
    "            zipdata.extract(zipinfo)\n",
    "            if os.path.isfile(zipfilename):\n",
    "                os.remove(zipfilename)\n",
    "\n",
    "\n",
    "def download_data(missing_only=True):\n",
    "    if not missing_only:\n",
    "        download_helper()\n",
    "    else:\n",
    "        if not all([os.path.isfile(csv) for csv in CSVS]):\n",
    "            logger.info('Some files are missing, we are downloading the files')\n",
    "            download_helper()"
   ]
  },
  {
   "cell_type": "markdown",
   "metadata": {},
   "source": [
    "# Loading the data"
   ]
  },
  {
   "cell_type": "code",
   "execution_count": 71,
   "metadata": {},
   "outputs": [],
   "source": [
    "download_data(download_all=False) # Download missing files only. Set to True to download all historical files"
   ]
  },
  {
   "cell_type": "markdown",
   "metadata": {},
   "source": [
    "# Processing the data"
   ]
  },
  {
   "cell_type": "code",
   "execution_count": 72,
   "metadata": {},
   "outputs": [
    {
     "name": "stderr",
     "output_type": "stream",
     "text": [
      "INFO:root:Reading csv file loto_0.csv\n",
      "INFO:root:Reading csv file loto_1.csv\n",
      "INFO:root:Reading csv file loto_2.csv\n",
      "INFO:root:Reading csv file loto_3.csv\n",
      "INFO:root:Reading csv file loto_4.csv\n"
     ]
    }
   ],
   "source": [
    "pd.set_option('display.max_columns', None)\n",
    "\n",
    "csv = CSVS[0]\n",
    "df = pd.read_csv(csv, sep=';')\n",
    "\n",
    "\n",
    "total_games = pd.concat([read_csv(csv) for csv in CSVS], axis=0).sort_values(by='annee_numero_de_tirage', ascending=False)\n",
    "games = total_games.apply(custom_fn, axis = 1).values.tolist() # format loto data"
   ]
  },
  {
   "cell_type": "markdown",
   "metadata": {},
   "source": [
    "# Generating Loto games"
   ]
  },
  {
   "cell_type": "code",
   "execution_count": 73,
   "metadata": {},
   "outputs": [
    {
     "name": "stderr",
     "output_type": "stream",
     "text": [
      "INFO:root:Generating 2 games based on the last past 50 games:\n"
     ]
    },
    {
     "name": "stdout",
     "output_type": "stream",
     "text": [
      "([13, 17, 24, 33, 41], [1])\n",
      "([12, 15, 34, 37, 44], [6])\n"
     ]
    }
   ],
   "source": [
    "@dataclass\n",
    "class Arguments:\n",
    "    ngames: int = 2\n",
    "    history: int = 50\n",
    "\n",
    "ngames = 2\n",
    "history = 50\n",
    "\n",
    "args = Arguments(ngames, history)\n",
    "\n",
    "gen_games = generate_games(games, args.history, args.ngames)\n",
    "\n",
    "for game in gen_games:\n",
    "    print(game)"
   ]
  }
 ],
 "metadata": {
  "kernelspec": {
   "display_name": "Python 3.9.13 64-bit",
   "language": "python",
   "name": "python3"
  },
  "language_info": {
   "codemirror_mode": {
    "name": "ipython",
    "version": 3
   },
   "file_extension": ".py",
   "mimetype": "text/x-python",
   "name": "python",
   "nbconvert_exporter": "python",
   "pygments_lexer": "ipython3",
   "version": "3.9.13"
  },
  "orig_nbformat": 4,
  "vscode": {
   "interpreter": {
    "hash": "aee8b7b246df8f9039afb4144a1f6fd8d2ca17a180786b69acc140d282b71a49"
   }
  }
 },
 "nbformat": 4,
 "nbformat_minor": 2
}
