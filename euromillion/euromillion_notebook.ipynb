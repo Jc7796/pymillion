{
 "cells": [
  {
   "cell_type": "markdown",
   "metadata": {},
   "source": [
    "# Imports"
   ]
  },
  {
   "cell_type": "code",
   "execution_count": 26,
   "metadata": {},
   "outputs": [],
   "source": [
    "import logging\n",
    "import requests\n",
    "import zipfile\n",
    "import os\n",
    "import pandas as pd\n",
    "import numpy as np\n",
    "from itertools import chain\n",
    "from collections import Counter\n",
    "import random\n",
    "import argparse\n",
    "from dataclasses import dataclass\n",
    "\n",
    "logger = logging.getLogger()\n",
    "logging.basicConfig(level=logging.INFO)\n"
   ]
  },
  {
   "cell_type": "markdown",
   "metadata": {},
   "source": [
    "# Constants and URLs and functions"
   ]
  },
  {
   "cell_type": "markdown",
   "metadata": {},
   "source": [
    "## Constants"
   ]
  },
  {
   "cell_type": "code",
   "execution_count": 2,
   "metadata": {},
   "outputs": [],
   "source": [
    "URLS = [\n",
    "    'https://media.fdj.fr/static/csv/euromillions/euromillions_200402.zip',\n",
    "    'https://media.fdj.fr/static/csv/euromillions/euromillions_201105.zip',\n",
    "    'https://media.fdj.fr/static/csv/euromillions/euromillions_201402.zip',\n",
    "    'https://media.fdj.fr/static/csv/euromillions/euromillions_201609.zip',\n",
    "    'https://media.fdj.fr/static/csv/euromillions/euromillions_201902.zip',\n",
    "    'https://media.fdj.fr/static/csv/euromillions/euromillions_202002.zip'\n",
    "]\n",
    "\n",
    "CSVS = [f'euromillion_{i}.csv' for i in range(len(URLS))]\n",
    "\n",
    "COLUMNS = ['annee_numero_de_tirage'] + [f'boule_{i}' for i in range(1, 6)] + [f'etoile_{i}' for i in range(1,3)]"
   ]
  },
  {
   "cell_type": "markdown",
   "metadata": {},
   "source": [
    "## Functions"
   ]
  },
  {
   "cell_type": "code",
   "execution_count": 20,
   "metadata": {},
   "outputs": [],
   "source": [
    "def asint(l):\n",
    "    return [int(e) for e in l]\n",
    "\n",
    "def custom_fn(row):\n",
    "    return (sorted(asint(row[1:6])), sorted(asint(row[6:])))\n",
    "\n",
    "def read_csv(filename):\n",
    "    data = pd.read_csv(filename, delimiter=';', encoding='latin-1')\n",
    "    if filename == CSVS[3]:\n",
    "        data = data[['annee_numero_de_tirage','date_de_forclusion', 'boule_1', 'boule_2', 'boule_3', 'boule_4', 'boule_5', 'etoile_1']]\n",
    "        data.columns = COLUMNS\n",
    "        data.annee_numero_de_tirage = data.index\n",
    "    else:\n",
    "        data = data[COLUMNS]\n",
    "    return data\n",
    "\n",
    "def generate_games(games, history, n_games):\n",
    "\n",
    "    if history > len(games):\n",
    "        logger.warning(f'History value exceeds the number of history games, setting history to maximal value: {len(games)}')\n",
    "        history = len(games)\n",
    "\n",
    "    logger.info(f'Generating {n_games} games based on the last past {history} games:')\n",
    "\n",
    "    generated_games = []\n",
    "\n",
    "    past_balls = chain(*[game[0] for game in games[:history]])\n",
    "    past_stars = chain(*[game[1] for game in games[:history]])\n",
    "\n",
    "    ball_counter = Counter(past_balls)\n",
    "    star_counter = Counter(past_stars)\n",
    "\n",
    "    played_balls = np.array(list(ball_counter.keys()))\n",
    "    played_stars = np.array(list(star_counter.keys()))\n",
    "\n",
    "    proba_balls = np.array(list(ball_counter.values())) / np.linalg.norm(list(ball_counter.values()), ord=1)\n",
    "    proba_stars = np.array(list(star_counter.values())) / np.linalg.norm(list(star_counter.values()), ord=1)\n",
    "\n",
    "\n",
    "    for i in range(n_games):\n",
    "\n",
    "        while True:\n",
    "            ball_selection = sorted(np.random.choice(played_balls, size=5, replace=False, p=proba_balls))\n",
    "            star_selection = sorted(np.random.choice(played_stars, size=2, replace=False, p=proba_stars))\n",
    "\n",
    "            if sum([ball > 25 for ball in ball_selection]) != random.choice([2,3]):\n",
    "                continue\n",
    "            else:\n",
    "                generated_games.append((ball_selection, star_selection))\n",
    "                break\n",
    "\n",
    "    return generated_games\n",
    "\n",
    "def download_helper(download_all = False):\n",
    "    for i, url in enumerate(URLS):\n",
    "        zipfilename = f'euromillion_{i}.zip'\n",
    "        csvfilename = f'euromillion_{i}.csv'\n",
    "        if not(os.path.isfile(csvfilename)) or download_all:\n",
    "            logger.info(f'Downloading file {csvfilename}')\n",
    "            r = requests.get(url, allow_redirects=True)\n",
    "            open(zipfilename, 'wb').write(r.content)\n",
    "            zipdata = zipfile.ZipFile(zipfilename)\n",
    "            zipinfo = zipdata.infolist()[0]\n",
    "            zipinfo.filename = csvfilename\n",
    "            zipdata.extract(zipinfo)\n",
    "            if os.path.isfile(zipfilename):\n",
    "                os.remove(zipfilename)\n",
    "\n",
    "\n",
    "def download_data(download_all=False):\n",
    "    if download_all:\n",
    "        download_helper(download_all)\n",
    "    else:\n",
    "        if not all([os.path.isfile(csv) for csv in CSVS]):\n",
    "            logger.info('Some files are missing, we are downloading the files')\n",
    "            download_helper(download_all)"
   ]
  },
  {
   "cell_type": "markdown",
   "metadata": {},
   "source": [
    "# Loading the data"
   ]
  },
  {
   "cell_type": "code",
   "execution_count": 21,
   "metadata": {},
   "outputs": [],
   "source": [
    "download_data(download_all=False) # Download missing files only. Set to True to download all historical files"
   ]
  },
  {
   "cell_type": "markdown",
   "metadata": {},
   "source": [
    "# Processing the data"
   ]
  },
  {
   "cell_type": "code",
   "execution_count": 22,
   "metadata": {},
   "outputs": [
    {
     "name": "stderr",
     "output_type": "stream",
     "text": [
      "INFO:root:Reading csv file euromillion_0.csv\n",
      "INFO:root:Reading csv file euromillion_1.csv\n",
      "INFO:root:Reading csv file euromillion_2.csv\n",
      "INFO:root:Reading csv file euromillion_3.csv\n",
      "INFO:root:Reading csv file euromillion_4.csv\n",
      "INFO:root:Reading csv file euromillion_5.csv\n"
     ]
    }
   ],
   "source": [
    "pd.set_option('display.max_columns', None)\n",
    "\n",
    "csv = CSVS[0]\n",
    "df = pd.read_csv(csv, sep=';')\n",
    "\n",
    "\n",
    "total_games = pd.concat([read_csv(csv) for csv in CSVS], axis=0).sort_values(by='annee_numero_de_tirage', ascending=False)\n",
    "games = total_games.apply(custom_fn, axis = 1).values.tolist() # format euromillion data"
   ]
  },
  {
   "cell_type": "markdown",
   "metadata": {},
   "source": [
    "# Generating Loto games"
   ]
  },
  {
   "cell_type": "code",
   "execution_count": 31,
   "metadata": {},
   "outputs": [
    {
     "name": "stderr",
     "output_type": "stream",
     "text": [
      "WARNING:root:History value exceeds the number of history games, setting history to maximal value: 1551\n",
      "INFO:root:Generating 2 games based on the last past 1551 games:\n"
     ]
    },
    {
     "name": "stdout",
     "output_type": "stream",
     "text": [
      "([3, 15, 34, 35, 48], [4, 11])\n",
      "([1, 5, 17, 27, 37], [2, 5])\n"
     ]
    }
   ],
   "source": [
    "@dataclass\n",
    "class Arguments:\n",
    "    ngames: int = 2\n",
    "    history: int = 50\n",
    "\n",
    "ngames = 2\n",
    "history = 20\n",
    "\n",
    "args = Arguments(ngames, history)\n",
    "\n",
    "gen_games = generate_games(games, args.history, args.ngames)\n",
    "\n",
    "for game in gen_games:\n",
    "    print(game)"
   ]
  }
 ],
 "metadata": {
  "kernelspec": {
   "display_name": "Python 3.9.13 64-bit",
   "language": "python",
   "name": "python3"
  },
  "language_info": {
   "codemirror_mode": {
    "name": "ipython",
    "version": 3
   },
   "file_extension": ".py",
   "mimetype": "text/x-python",
   "name": "python",
   "nbconvert_exporter": "python",
   "pygments_lexer": "ipython3",
   "version": "3.9.13"
  },
  "orig_nbformat": 4,
  "vscode": {
   "interpreter": {
    "hash": "aee8b7b246df8f9039afb4144a1f6fd8d2ca17a180786b69acc140d282b71a49"
   }
  }
 },
 "nbformat": 4,
 "nbformat_minor": 2
}
